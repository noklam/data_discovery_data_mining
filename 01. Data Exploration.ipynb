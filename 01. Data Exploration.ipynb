{
 "cells": [
  {
   "cell_type": "code",
   "execution_count": 4,
   "id": "expired-intellectual",
   "metadata": {},
   "outputs": [
    {
     "name": "stdout",
     "output_type": "stream",
     "text": [
      "The autoreload extension is already loaded. To reload it, use:\n",
      "  %reload_ext autoreload\n"
     ]
    }
   ],
   "source": [
    "%load_ext autoreload\n",
    "%autoreload 2"
   ]
  },
  {
   "cell_type": "code",
   "execution_count": 5,
   "id": "american-excellence",
   "metadata": {},
   "outputs": [],
   "source": [
    "import pandas as pd"
   ]
  },
  {
   "cell_type": "code",
   "execution_count": 6,
   "id": "peaceful-uniform",
   "metadata": {},
   "outputs": [],
   "source": [
    "source_data = \"data/train.json\"\n",
    "df = pd.read_json(source_data)"
   ]
  },
  {
   "cell_type": "code",
   "execution_count": 8,
   "id": "subtle-calibration",
   "metadata": {},
   "outputs": [
    {
     "data": {
      "text/html": [
       "<div>\n",
       "<style scoped>\n",
       "    .dataframe tbody tr th:only-of-type {\n",
       "        vertical-align: middle;\n",
       "    }\n",
       "\n",
       "    .dataframe tbody tr th {\n",
       "        vertical-align: top;\n",
       "    }\n",
       "\n",
       "    .dataframe thead th {\n",
       "        text-align: right;\n",
       "    }\n",
       "</style>\n",
       "<table border=\"1\" class=\"dataframe\">\n",
       "  <thead>\n",
       "    <tr style=\"text-align: right;\">\n",
       "      <th></th>\n",
       "      <th>description</th>\n",
       "      <th>title</th>\n",
       "      <th>url</th>\n",
       "      <th>comments</th>\n",
       "      <th>sql</th>\n",
       "      <th>sql_plain</th>\n",
       "      <th>id</th>\n",
       "    </tr>\n",
       "  </thead>\n",
       "  <tbody>\n",
       "    <tr>\n",
       "      <th>0</th>\n",
       "      <td></td>\n",
       "      <td>Repent 151-160</td>\n",
       "      <td>http://data.stackexchange.com/stackoverflow/re...</td>\n",
       "      <td>[]</td>\n",
       "      <td>SELECT p.Title,p.score,p.ViewCount,p.AnswerCou...</td>\n",
       "      <td>SELECT \\np.Title,p.score,p.ViewCount,p.AnswerC...</td>\n",
       "      <td>586912</td>\n",
       "    </tr>\n",
       "    <tr>\n",
       "      <th>1</th>\n",
       "      <td></td>\n",
       "      <td>This is test data for my question to make thin...</td>\n",
       "      <td>http://data.stackexchange.com/stackoverflow/re...</td>\n",
       "      <td>[This is test data for my question to make thi...</td>\n",
       "      <td>CREATE TABLE #CustomerDB ( ID int NOT NULL, NA...</td>\n",
       "      <td>-- This is test data for my question to make t...</td>\n",
       "      <td>54791</td>\n",
       "    </tr>\n",
       "  </tbody>\n",
       "</table>\n",
       "</div>"
      ],
      "text/plain": [
       "  description                                              title  \\\n",
       "0                                                 Repent 151-160   \n",
       "1              This is test data for my question to make thin...   \n",
       "\n",
       "                                                 url  \\\n",
       "0  http://data.stackexchange.com/stackoverflow/re...   \n",
       "1  http://data.stackexchange.com/stackoverflow/re...   \n",
       "\n",
       "                                            comments  \\\n",
       "0                                                 []   \n",
       "1  [This is test data for my question to make thi...   \n",
       "\n",
       "                                                 sql  \\\n",
       "0  SELECT p.Title,p.score,p.ViewCount,p.AnswerCou...   \n",
       "1  CREATE TABLE #CustomerDB ( ID int NOT NULL, NA...   \n",
       "\n",
       "                                           sql_plain      id  \n",
       "0  SELECT \\np.Title,p.score,p.ViewCount,p.AnswerC...  586912  \n",
       "1  -- This is test data for my question to make t...   54791  "
      ]
     },
     "execution_count": 8,
     "metadata": {},
     "output_type": "execute_result"
    }
   ],
   "source": [
    "df.head(2)"
   ]
  },
  {
   "cell_type": "markdown",
   "id": "connected-victory",
   "metadata": {},
   "source": [
    "We only care about the *SQL* query for now."
   ]
  },
  {
   "cell_type": "code",
   "execution_count": 17,
   "id": "convenient-validity",
   "metadata": {},
   "outputs": [],
   "source": [
    "sqls = df['sql']\n",
    "sample = sqls.head()"
   ]
  },
  {
   "cell_type": "markdown",
   "id": "documentary-entry",
   "metadata": {},
   "source": [
    "The SQL dialect is very rich, to simplify the problem, we just care about the table relation for now.\n",
    "\n",
    "i.e. `SELECT x.col1, x.col2 from table1 left join table2 on table1.key = table2.key`\n",
    "\n",
    "I want to extract `table1` as the source table and it is related to `table2`"
   ]
  },
  {
   "cell_type": "markdown",
   "id": "absent-default",
   "metadata": {},
   "source": [
    "# sqlparse"
   ]
  },
  {
   "cell_type": "markdown",
   "id": "atlantic-studio",
   "metadata": {},
   "source": [
    "Luckily, we can leverage existing library `sqlparse`, which helps parsing the dialect so that we don't have to write fancy regex"
   ]
  },
  {
   "cell_type": "code",
   "execution_count": 15,
   "id": "comfortable-share",
   "metadata": {
    "scrolled": true
   },
   "outputs": [
    {
     "name": "stdout",
     "output_type": "stream",
     "text": [
      "Collecting sqlparse\n",
      "  Using cached sqlparse-0.4.1-py3-none-any.whl (42 kB)\n",
      "Installing collected packages: sqlparse\n",
      "Successfully installed sqlparse-0.4.1\n"
     ]
    }
   ],
   "source": [
    "#hide\n",
    "!pip install sqlparse"
   ]
  },
  {
   "cell_type": "code",
   "execution_count": 16,
   "id": "statistical-bunch",
   "metadata": {},
   "outputs": [],
   "source": [
    "import sqlparse"
   ]
  },
  {
   "cell_type": "code",
   "execution_count": 46,
   "id": "latest-trailer",
   "metadata": {},
   "outputs": [],
   "source": [
    "sql = sample[0]"
   ]
  },
  {
   "cell_type": "code",
   "execution_count": 49,
   "id": "tracked-fossil",
   "metadata": {},
   "outputs": [
    {
     "name": "stdout",
     "output_type": "stream",
     "text": [
      "SELECT p.Title,\n",
      "       p.score,\n",
      "       p.ViewCount,\n",
      "       p.AnswerCount,\n",
      "       p.CommentCount,\n",
      "       LEN(p.body) AS ques_size,\n",
      "       p.favoritecount,\n",
      "       p.id,\n",
      "       u.reputation AS user_repo,\n",
      "       u.creationdate AS user_join_date,\n",
      "       datediff(MINUTE, p.CreationDate, a.CreationDate) AS QATimeGap\n",
      "FROM posts AS p,\n",
      "     posts AS a,\n",
      "     users AS u\n",
      "WHERE p.id=a.parentId\n",
      "  AND p.owneruserid=u.id\n",
      "  AND a.creationdate =\n",
      "    (SELECT min(tau.creationdate)\n",
      "     FROM posts tau\n",
      "     WHERE tau.parentID=p.id\n",
      "     GROUP BY tau.parentID)\n",
      "  AND (p.title like '%Recommended method for handling UnsupportedEncodingException from String.getBytes(\"UTF-8\")%'\n",
      "       OR p.title like '%Way to format strings with \"?\" parameters to full string in java?%'\n",
      "       OR p.title like '%How to parse a string without regular expressions%'\n",
      "       OR p.title like '%How to replace string only once without regex in Java?%'\n",
      "       OR p.title like '%Efficiently removing specific characters (some punctuation) from Strings in Java?%'\n",
      "       OR p.title like '%Strings are immutable - that means I should never use += and only StringBuffer?%'\n",
      "       OR p.title like '%Concatenation of Strings and characters%'\n",
      "       OR p.title like '%Java - Convert integer to string%'\n",
      "       OR p.title like '%function to remove duplicate characters in a string%'\n",
      "       OR p.title like '%Better template language needed%')\n"
     ]
    }
   ],
   "source": [
    "print(sqlparse.format(sql, reindent=True, keyword_case='upper'))"
   ]
  },
  {
   "cell_type": "markdown",
   "id": "classical-bulletin",
   "metadata": {},
   "source": [
    "We can get the entity with `sqlparse`."
   ]
  },
  {
   "cell_type": "code",
   "execution_count": 83,
   "id": "armed-latex",
   "metadata": {},
   "outputs": [],
   "source": [
    "parsed = sqlparse.parse(sql)"
   ]
  },
  {
   "cell_type": "code",
   "execution_count": 85,
   "id": "premier-pickup",
   "metadata": {},
   "outputs": [
    {
     "data": {
      "text/plain": [
       "[<DML 'SELECT' at 0x24B4F4453A8>,\n",
       " <Whitespace ' ' at 0x24B4F445E88>,\n",
       " <IdentifierList 'p.Titl...' at 0x24B50D3CAC8>,\n",
       " <Whitespace ' ' at 0x24B4EC78348>,\n",
       " <Keyword 'from' at 0x24B4EC783A8>,\n",
       " <Whitespace ' ' at 0x24B4EC78408>,\n",
       " <IdentifierList 'posts ...' at 0x24B50D3CCC8>,\n",
       " <Whitespace ' ' at 0x24B4EC78B88>,\n",
       " <Where 'where ...' at 0x24B4EC639C8>]"
      ]
     },
     "execution_count": 85,
     "metadata": {},
     "output_type": "execute_result"
    }
   ],
   "source": [
    "parsed = parsed[0]\n",
    "\n",
    "statement.tokens"
   ]
  },
  {
   "cell_type": "code",
   "execution_count": 53,
   "id": "administrative-humanity",
   "metadata": {},
   "outputs": [],
   "source": [
    "a=statement[0]"
   ]
  },
  {
   "cell_type": "code",
   "execution_count": 82,
   "id": "threaded-hudson",
   "metadata": {},
   "outputs": [
    {
     "data": {
      "text/plain": [
       "<Statement 'SELECT...' at 0x24B512FE8C8>"
      ]
     },
     "execution_count": 82,
     "metadata": {},
     "output_type": "execute_result"
    }
   ],
   "source": [
    "parsed"
   ]
  },
  {
   "cell_type": "code",
   "execution_count": 86,
   "id": "noble-month",
   "metadata": {},
   "outputs": [
    {
     "ename": "AttributeError",
     "evalue": "'Statement' object has no attribute 'get_identifiers'",
     "output_type": "error",
     "traceback": [
      "\u001b[1;31m---------------------------------------------------------------------------\u001b[0m",
      "\u001b[1;31mAttributeError\u001b[0m                            Traceback (most recent call last)",
      "\u001b[1;32m<ipython-input-86-eeaadc5838c7>\u001b[0m in \u001b[0;36m<module>\u001b[1;34m\u001b[0m\n\u001b[1;32m----> 1\u001b[1;33m \u001b[0mparsed\u001b[0m\u001b[1;33m.\u001b[0m\u001b[0mget_identifiers\u001b[0m\u001b[1;33m(\u001b[0m\u001b[1;33m)\u001b[0m\u001b[1;33m\u001b[0m\u001b[1;33m\u001b[0m\u001b[0m\n\u001b[0m",
      "\u001b[1;31mAttributeError\u001b[0m: 'Statement' object has no attribute 'get_identifiers'"
     ]
    }
   ],
   "source": [
    "parsed.get_identifiers()"
   ]
  },
  {
   "cell_type": "code",
   "execution_count": 72,
   "id": "surprised-surgeon",
   "metadata": {},
   "outputs": [
    {
     "data": {
      "text/plain": [
       "<Statement 'SELECT...' at 0x24B4EC63448>"
      ]
     },
     "execution_count": 72,
     "metadata": {},
     "output_type": "execute_result"
    }
   ],
   "source": [
    "statement"
   ]
  },
  {
   "cell_type": "code",
   "execution_count": 48,
   "id": "monetary-foundation",
   "metadata": {},
   "outputs": [
    {
     "data": {
      "text/plain": [
       "'SELECT p.Title,\\n       p.score,\\n       p.ViewCount,\\n       p.AnswerCount,\\n       p.CommentCount,\\n       LEN(p.body) AS ques_size,\\n       p.favoritecount,\\n       p.id,\\n       u.reputation AS user_repo,\\n       u.creationdate AS user_join_date,\\n       datediff(MINUTE, p.CreationDate, a.CreationDate) AS QATimeGap\\nFROM posts AS p,\\n     posts AS a,\\n     users AS u\\nWHERE p.id=a.parentId\\n  AND p.owneruserid=u.id\\n  AND a.creationdate =\\n    (SELECT min(tau.creationdate)\\n     FROM posts tau\\n     WHERE tau.parentID=p.id\\n     GROUP BY tau.parentID)\\n  AND (p.title like \\'%Recommended method for handling UnsupportedEncodingException from String.getBytes(\"UTF-8\")%\\'\\n       OR p.title like \\'%Way to format strings with \"?\" parameters to full string in java?%\\'\\n       OR p.title like \\'%How to parse a string without regular expressions%\\'\\n       OR p.title like \\'%How to replace string only once without regex in Java?%\\'\\n       OR p.title like \\'%Efficiently removing specific characters (some punctuation) from Strings in Java?%\\'\\n       OR p.title like \\'%Strings are immutable - that means I should never use += and only StringBuffer?%\\'\\n       OR p.title like \\'%Concatenation of Strings and characters%\\'\\n       OR p.title like \\'%Java - Convert integer to string%\\'\\n       OR p.title like \\'%function to remove duplicate characters in a string%\\'\\n       OR p.title like \\'%Better template language needed%\\')'"
      ]
     },
     "execution_count": 48,
     "metadata": {},
     "output_type": "execute_result"
    }
   ],
   "source": [
    "sqlparse.format(sql, reindent=True, keyword_case='upper')"
   ]
  },
  {
   "cell_type": "code",
   "execution_count": null,
   "id": "scientific-archive",
   "metadata": {},
   "outputs": [],
   "source": []
  }
 ],
 "metadata": {
  "kernelspec": {
   "display_name": "Python 3",
   "language": "python",
   "name": "python3"
  },
  "language_info": {
   "codemirror_mode": {
    "name": "ipython",
    "version": 3
   },
   "file_extension": ".py",
   "mimetype": "text/x-python",
   "name": "python",
   "nbconvert_exporter": "python",
   "pygments_lexer": "ipython3",
   "version": "3.7.5"
  },
  "toc": {
   "base_numbering": 1,
   "nav_menu": {},
   "number_sections": true,
   "sideBar": true,
   "skip_h1_title": false,
   "title_cell": "Table of Contents",
   "title_sidebar": "Contents",
   "toc_cell": false,
   "toc_position": {},
   "toc_section_display": true,
   "toc_window_display": false
  }
 },
 "nbformat": 4,
 "nbformat_minor": 5
}
